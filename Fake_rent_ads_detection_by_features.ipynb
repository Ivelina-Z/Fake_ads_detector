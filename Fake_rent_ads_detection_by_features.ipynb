{
 "cells": [
  {
   "cell_type": "code",
   "execution_count": 1,
   "id": "18b07b66-688c-42ed-9555-e1ba6a50c971",
   "metadata": {},
   "outputs": [],
   "source": [
    "%matplotlib inline"
   ]
  },
  {
   "cell_type": "code",
   "execution_count": 80,
   "id": "a046a0b0-b8f5-4683-af7f-2f710d65a21d",
   "metadata": {},
   "outputs": [],
   "source": [
    "import pandas as pd\n",
    "import numpy as np\n",
    "import matplotlib.pyplot as plt\n",
    "\n",
    "from sklearn.model_selection import train_test_split\n",
    "from sklearn.model_selection import GridSearchCV\n",
    "\n",
    "from imblearn.over_sampling import SMOTE\n",
    "\n",
    "from sklearn.preprocessing import MinMaxScaler\n",
    "from sklearn.svm import SVC\n",
    "from sklearn.svm import LinearSVC\n",
    "\n",
    "from sklearn.metrics import ConfusionMatrixDisplay, confusion_matrix, classification_report, f1_score, make_scorer"
   ]
  },
  {
   "cell_type": "code",
   "execution_count": 3,
   "id": "89340708-9b47-40c9-9daf-a04f164c0fe3",
   "metadata": {},
   "outputs": [],
   "source": [
    "# random seed = 13"
   ]
  },
  {
   "cell_type": "markdown",
   "id": "f5637f99-46f3-4725-a444-6c652dc1e068",
   "metadata": {
    "tags": []
   },
   "source": [
    "## Почистване на данни"
   ]
  },
  {
   "cell_type": "code",
   "execution_count": 4,
   "id": "5ecbf02c-53be-43d0-aca9-7e8600795ca8",
   "metadata": {},
   "outputs": [],
   "source": [
    "rent_ads_data = pd.read_excel('Python hackathon_Mock data_Group 3 .xlsx', sheet_name='Наеми', skiprows=1, header = 1)"
   ]
  },
  {
   "cell_type": "code",
   "execution_count": 5,
   "id": "4fa8dc07-8b09-4b4f-8abf-8e9c83492502",
   "metadata": {},
   "outputs": [
    {
     "data": {
      "text/html": [
       "<div>\n",
       "<style scoped>\n",
       "    .dataframe tbody tr th:only-of-type {\n",
       "        vertical-align: middle;\n",
       "    }\n",
       "\n",
       "    .dataframe tbody tr th {\n",
       "        vertical-align: top;\n",
       "    }\n",
       "\n",
       "    .dataframe thead th {\n",
       "        text-align: right;\n",
       "    }\n",
       "</style>\n",
       "<table border=\"1\" class=\"dataframe\">\n",
       "  <thead>\n",
       "    <tr style=\"text-align: right;\">\n",
       "      <th></th>\n",
       "      <th>Обява №</th>\n",
       "      <th>Дата на публикуване</th>\n",
       "      <th>Заглавие</th>\n",
       "      <th>Описание</th>\n",
       "      <th>Област</th>\n",
       "      <th>Град</th>\n",
       "      <th>Район/Квартал</th>\n",
       "      <th>Етаж</th>\n",
       "      <th>Наем (в лв.)</th>\n",
       "      <th>Наем (в евро)</th>\n",
       "      <th>Площ</th>\n",
       "      <th>Цена на кв.м. (в лв.)</th>\n",
       "      <th>Спални</th>\n",
       "      <th>От агенция</th>\n",
       "      <th>Подател</th>\n",
       "      <th>Телефон</th>\n",
       "      <th>Идентифициран риск за фалшива обява</th>\n",
       "    </tr>\n",
       "  </thead>\n",
       "  <tbody>\n",
       "    <tr>\n",
       "      <th>0</th>\n",
       "      <td>1276.0</td>\n",
       "      <td>2022-09-25</td>\n",
       "      <td>Дава под Наем 1-СТАЕН</td>\n",
       "      <td>ЕКСКЛУЗИВНА ОФЕРТА\\n\\n'БЕСТ СЕЛЪРС' предлага н...</td>\n",
       "      <td>София</td>\n",
       "      <td>София</td>\n",
       "      <td>Изток</td>\n",
       "      <td>8.0</td>\n",
       "      <td>NaN</td>\n",
       "      <td>275.0</td>\n",
       "      <td>49.0</td>\n",
       "      <td>10.976597</td>\n",
       "      <td>1.0</td>\n",
       "      <td>Да</td>\n",
       "      <td>Агенция: БЕСТ СЕЛЪРС ООД</td>\n",
       "      <td>886224488.0</td>\n",
       "      <td>Не</td>\n",
       "    </tr>\n",
       "    <tr>\n",
       "      <th>1</th>\n",
       "      <td>1388.0</td>\n",
       "      <td>2022-09-26</td>\n",
       "      <td>Дава под Наем 1-СТАЕН</td>\n",
       "      <td>Топ локация!!!\\n\\nСлед ремонт - напълно обзаве...</td>\n",
       "      <td>София</td>\n",
       "      <td>София</td>\n",
       "      <td>Белите брези</td>\n",
       "      <td>NaN</td>\n",
       "      <td>450.0</td>\n",
       "      <td>NaN</td>\n",
       "      <td>40.0</td>\n",
       "      <td>11.250000</td>\n",
       "      <td>1.0</td>\n",
       "      <td>Да</td>\n",
       "      <td>Агенция: УПРАВЛЕНИЕ БГ</td>\n",
       "      <td>884231053.0</td>\n",
       "      <td>Не</td>\n",
       "    </tr>\n",
       "    <tr>\n",
       "      <th>2</th>\n",
       "      <td>1500.0</td>\n",
       "      <td>2022-09-27</td>\n",
       "      <td>Дава под Наем 1-СТАЕН</td>\n",
       "      <td>Предлагаме малко,но функционално жилище,в мног...</td>\n",
       "      <td>София</td>\n",
       "      <td>София</td>\n",
       "      <td>Редута</td>\n",
       "      <td>0.0</td>\n",
       "      <td>400.0</td>\n",
       "      <td>NaN</td>\n",
       "      <td>30.0</td>\n",
       "      <td>13.330000</td>\n",
       "      <td>1.0</td>\n",
       "      <td>Да</td>\n",
       "      <td>Агенция: АГЕНЦИИ ИЗТОК - ОФИС ТОВИСТО М</td>\n",
       "      <td>988829752.0</td>\n",
       "      <td>Не</td>\n",
       "    </tr>\n",
       "    <tr>\n",
       "      <th>3</th>\n",
       "      <td>1612.0</td>\n",
       "      <td>2022-09-28</td>\n",
       "      <td>Дава под Наем 1-СТАЕН</td>\n",
       "      <td>На вашето внимание агенция за недвижими имоти ...</td>\n",
       "      <td>София</td>\n",
       "      <td>София</td>\n",
       "      <td>Разсадника</td>\n",
       "      <td>2.0</td>\n",
       "      <td>NaN</td>\n",
       "      <td>250.0</td>\n",
       "      <td>47.0</td>\n",
       "      <td>10.463691</td>\n",
       "      <td>1.0</td>\n",
       "      <td>Да</td>\n",
       "      <td>Агенция: ПИЙК РИЪЛ ЕСТЕЙТ ЕООД</td>\n",
       "      <td>882988975.0</td>\n",
       "      <td>Не</td>\n",
       "    </tr>\n",
       "    <tr>\n",
       "      <th>4</th>\n",
       "      <td>1724.0</td>\n",
       "      <td>2022-09-29</td>\n",
       "      <td>Дава под Наем 1-СТАЕН</td>\n",
       "      <td>БЕЗ ХАЗАЙ на спирката с/у Медицинска а-мия. Ст...</td>\n",
       "      <td>София</td>\n",
       "      <td>София</td>\n",
       "      <td>Медицинска ададемия</td>\n",
       "      <td>1.0</td>\n",
       "      <td>380.0</td>\n",
       "      <td>NaN</td>\n",
       "      <td>25.0</td>\n",
       "      <td>15.200000</td>\n",
       "      <td>1.0</td>\n",
       "      <td>Да</td>\n",
       "      <td>Агенция:ЛАЙТ ПРОПЪРТИ</td>\n",
       "      <td>878318739.0</td>\n",
       "      <td>Да</td>\n",
       "    </tr>\n",
       "  </tbody>\n",
       "</table>\n",
       "</div>"
      ],
      "text/plain": [
       "   Обява № Дата на публикуване               Заглавие  \\\n",
       "0   1276.0          2022-09-25  Дава под Наем 1-СТАЕН   \n",
       "1   1388.0          2022-09-26  Дава под Наем 1-СТАЕН   \n",
       "2   1500.0          2022-09-27  Дава под Наем 1-СТАЕН   \n",
       "3   1612.0          2022-09-28  Дава под Наем 1-СТАЕН   \n",
       "4   1724.0          2022-09-29  Дава под Наем 1-СТАЕН   \n",
       "\n",
       "                                            Описание Област   Град  \\\n",
       "0  ЕКСКЛУЗИВНА ОФЕРТА\\n\\n'БЕСТ СЕЛЪРС' предлага н...  София  София   \n",
       "1  Топ локация!!!\\n\\nСлед ремонт - напълно обзаве...  София  София   \n",
       "2  Предлагаме малко,но функционално жилище,в мног...  София  София   \n",
       "3  На вашето внимание агенция за недвижими имоти ...  София  София   \n",
       "4  БЕЗ ХАЗАЙ на спирката с/у Медицинска а-мия. Ст...  София  София   \n",
       "\n",
       "         Район/Квартал Етаж Наем (в лв.)  Наем (в евро)  Площ  \\\n",
       "0                Изток  8.0          NaN          275.0  49.0   \n",
       "1         Белите брези  NaN        450.0            NaN  40.0   \n",
       "2               Редута  0.0        400.0            NaN  30.0   \n",
       "3           Разсадника  2.0          NaN          250.0  47.0   \n",
       "4  Медицинска ададемия  1.0        380.0            NaN  25.0   \n",
       "\n",
       "   Цена на кв.м. (в лв.)  Спални От агенция  \\\n",
       "0              10.976597     1.0         Да   \n",
       "1              11.250000     1.0         Да   \n",
       "2              13.330000     1.0         Да   \n",
       "3              10.463691     1.0         Да   \n",
       "4              15.200000     1.0         Да   \n",
       "\n",
       "                                   Подател      Телефон  \\\n",
       "0                 Агенция: БЕСТ СЕЛЪРС ООД  886224488.0   \n",
       "1                   Агенция: УПРАВЛЕНИЕ БГ  884231053.0   \n",
       "2  Агенция: АГЕНЦИИ ИЗТОК - ОФИС ТОВИСТО М  988829752.0   \n",
       "3           Агенция: ПИЙК РИЪЛ ЕСТЕЙТ ЕООД  882988975.0   \n",
       "4                    Агенция:ЛАЙТ ПРОПЪРТИ  878318739.0   \n",
       "\n",
       "  Идентифициран риск за фалшива обява  \n",
       "0                                  Не  \n",
       "1                                  Не  \n",
       "2                                  Не  \n",
       "3                                  Не  \n",
       "4                                  Да  "
      ]
     },
     "execution_count": 5,
     "metadata": {},
     "output_type": "execute_result"
    }
   ],
   "source": [
    "rent_ads_data.head()"
   ]
  },
  {
   "cell_type": "code",
   "execution_count": 6,
   "id": "327e1095-9f66-4ab6-9df8-3996bf4ca906",
   "metadata": {},
   "outputs": [
    {
     "data": {
      "text/plain": [
       "(98, 17)"
      ]
     },
     "execution_count": 6,
     "metadata": {},
     "output_type": "execute_result"
    }
   ],
   "source": [
    "rent_ads_data.shape"
   ]
  },
  {
   "cell_type": "markdown",
   "id": "983f8e70-cd7b-4c48-9870-be0c8389e310",
   "metadata": {
    "tags": []
   },
   "source": [
    "####  Форматиране на телефонен номер "
   ]
  },
  {
   "cell_type": "code",
   "execution_count": 7,
   "id": "8867b80e-12fb-4507-9a5d-04442983ffe6",
   "metadata": {},
   "outputs": [],
   "source": [
    "rent_ads_data['Телефон'] = rent_ads_data['Телефон'].astype(str).str.replace(' ', '').str.rstrip('.0')"
   ]
  },
  {
   "cell_type": "code",
   "execution_count": 8,
   "id": "ab0e0afc-0c1d-41e1-8e45-f6c506527987",
   "metadata": {},
   "outputs": [],
   "source": [
    "rent_ads_data['Телефон'] = '0' + rent_ads_data['Телефон']"
   ]
  },
  {
   "cell_type": "markdown",
   "id": "10272c76-300d-4ce5-9b75-81c301b40f5f",
   "metadata": {},
   "source": [
    "####  Корекция на тип данни"
   ]
  },
  {
   "cell_type": "code",
   "execution_count": 9,
   "id": "13f5862b-448c-4ee5-ac96-45c9fa674e14",
   "metadata": {},
   "outputs": [
    {
     "data": {
      "text/plain": [
       "Обява №                                       float64\n",
       "Дата на публикуване                    datetime64[ns]\n",
       "Заглавие                                       object\n",
       "Описание                                       object\n",
       "Област                                         object\n",
       "Град                                           object\n",
       "Район/Квартал                                  object\n",
       "Етаж                                           object\n",
       "Наем (в лв.)                                   object\n",
       "Наем (в евро)                                 float64\n",
       "Площ                                          float64\n",
       "Цена на кв.м. (в лв.)                         float64\n",
       "Спални                                        float64\n",
       "От агенция                                     object\n",
       "Подател                                        object\n",
       "Телефон                                        object\n",
       "Идентифициран риск за фалшива обява            object\n",
       "dtype: object"
      ]
     },
     "execution_count": 9,
     "metadata": {},
     "output_type": "execute_result"
    }
   ],
   "source": [
    "rent_ads_data.dtypes"
   ]
  },
  {
   "cell_type": "markdown",
   "id": "8399f893-0a41-4cd7-8ff9-8dee00b8d55b",
   "metadata": {},
   "source": [
    "В колоните `Етаж` и `Наем (в лв.)`, освен NaN стойности има и празни места. Преди промяна на типа данни, тези спейсове ще бъдат заменени с NaN, който в последствие ще бъде запълнен по съответния за колоната начин."
   ]
  },
  {
   "cell_type": "code",
   "execution_count": 10,
   "id": "ae001445-5159-4429-be18-aa5ae5516b0b",
   "metadata": {},
   "outputs": [],
   "source": [
    "rent_ads_data['Етаж'] = rent_ads_data['Етаж'].replace('  ', np.NaN).replace(' ', np.NaN)\n",
    "rent_ads_data['Наем (в лв.)'] = rent_ads_data['Наем (в лв.)'].replace(' ', np.NaN) "
   ]
  },
  {
   "cell_type": "code",
   "execution_count": 11,
   "id": "4e02a5ac-82ac-4201-bc84-dc3b1548f9c3",
   "metadata": {},
   "outputs": [],
   "source": [
    "assert((rent_ads_data['Етаж'] == '  ').any() == False)\n",
    "assert((rent_ads_data['Наем (в лв.)'] == ' ').any() == False)"
   ]
  },
  {
   "cell_type": "markdown",
   "id": "48ff24e8-8f20-4438-ac08-beff9d77c838",
   "metadata": {},
   "source": [
    "Номерът на обявата ще бъде конвертиран в `int` и като специфичен за всяка обява ще се използва като индекс на записа. `Етаж` и `Наем (в лв.)`от object тип ще бъдат съответно `int` и `float`."
   ]
  },
  {
   "cell_type": "code",
   "execution_count": 12,
   "id": "5a6dff3c-1c42-42d4-95e9-c9d0ed5eb560",
   "metadata": {},
   "outputs": [],
   "source": [
    "def convert_data_types(dataframe, columns_type: dict):\n",
    "    for column, column_type in columns_type.items():\n",
    "        try:\n",
    "            if columns_type[column] != dataframe[column].dtypes:\n",
    "                dataframe[column] = dataframe[column].astype(columns_type[column])\n",
    "        except ValueError: #raise Error instead except\n",
    "            dataframe[column] = dataframe[column].astype(float)\n",
    "    return dataframe"
   ]
  },
  {
   "cell_type": "code",
   "execution_count": 13,
   "id": "d6623e99-cd71-4d20-8190-b23996602533",
   "metadata": {},
   "outputs": [],
   "source": [
    "rent_ads_dtypes = {'Обява №': int, 'Етаж': int, 'Наем (в лв.)': float}"
   ]
  },
  {
   "cell_type": "code",
   "execution_count": 14,
   "id": "14b54c65-67a2-4c00-ab2c-44fa03ea074a",
   "metadata": {},
   "outputs": [],
   "source": [
    "rent_ads_data = convert_data_types(rent_ads_data, rent_ads_dtypes)"
   ]
  },
  {
   "cell_type": "code",
   "execution_count": 15,
   "id": "80c070b2-ca9c-4754-86f0-e8c44cac2e07",
   "metadata": {},
   "outputs": [
    {
     "data": {
      "text/plain": [
       "Обява №                                         int64\n",
       "Дата на публикуване                    datetime64[ns]\n",
       "Заглавие                                       object\n",
       "Описание                                       object\n",
       "Област                                         object\n",
       "Град                                           object\n",
       "Район/Квартал                                  object\n",
       "Етаж                                          float64\n",
       "Наем (в лв.)                                  float64\n",
       "Наем (в евро)                                 float64\n",
       "Площ                                          float64\n",
       "Цена на кв.м. (в лв.)                         float64\n",
       "Спални                                        float64\n",
       "От агенция                                     object\n",
       "Подател                                        object\n",
       "Телефон                                        object\n",
       "Идентифициран риск за фалшива обява            object\n",
       "dtype: object"
      ]
     },
     "execution_count": 15,
     "metadata": {},
     "output_type": "execute_result"
    }
   ],
   "source": [
    "rent_ads_data.dtypes"
   ]
  },
  {
   "cell_type": "code",
   "execution_count": 16,
   "id": "a88f5b94-2f6d-417c-a6e3-514c16d730dd",
   "metadata": {},
   "outputs": [],
   "source": [
    "rent_ads_data = rent_ads_data.set_index('Обява №')"
   ]
  },
  {
   "cell_type": "markdown",
   "id": "cb4ae8d3-9b48-418e-bb00-a92be1cde70f",
   "metadata": {},
   "source": [
    "#### Форматиране на target променлива"
   ]
  },
  {
   "cell_type": "code",
   "execution_count": 17,
   "id": "63cdbd9e-eb2e-4bfa-a036-df6e4a1701a5",
   "metadata": {},
   "outputs": [
    {
     "data": {
      "text/plain": [
       "array(['Не', 'Да', 'Да '], dtype=object)"
      ]
     },
     "execution_count": 17,
     "metadata": {},
     "output_type": "execute_result"
    }
   ],
   "source": [
    "rent_ads_data['Идентифициран риск за фалшива обява'].unique()"
   ]
  },
  {
   "cell_type": "code",
   "execution_count": 18,
   "id": "8c1fd934-0863-49e9-98b5-5dd8c10d7c41",
   "metadata": {},
   "outputs": [],
   "source": [
    "rent_ads_data['Идентифициран риск за фалшива обява'] = rent_ads_data['Идентифициран риск за фалшива обява'].str.rstrip()"
   ]
  },
  {
   "cell_type": "code",
   "execution_count": 19,
   "id": "1c9bfc36-4928-47db-9701-b821d5cf1fbc",
   "metadata": {},
   "outputs": [
    {
     "data": {
      "text/plain": [
       "array(['Не', 'Да'], dtype=object)"
      ]
     },
     "execution_count": 19,
     "metadata": {},
     "output_type": "execute_result"
    }
   ],
   "source": [
    "rent_ads_data['Идентифициран риск за фалшива обява'].unique()"
   ]
  },
  {
   "cell_type": "code",
   "execution_count": 20,
   "id": "15832032-a969-4d03-9f31-fcee762806aa",
   "metadata": {},
   "outputs": [],
   "source": [
    "assert((rent_ads_data['Идентифициран риск за фалшива обява'].unique() == ['Не', 'Да']).all() == True)"
   ]
  },
  {
   "cell_type": "markdown",
   "id": "a71f0399-e609-412e-b3ca-0c6bb7cf8039",
   "metadata": {},
   "source": [
    "#### Запълване на липсващи данни"
   ]
  },
  {
   "cell_type": "code",
   "execution_count": 21,
   "id": "6dd2edd4-34bc-4ffc-925e-ff05e985bfa0",
   "metadata": {},
   "outputs": [
    {
     "data": {
      "text/plain": [
       "Дата на публикуване                    False\n",
       "Заглавие                               False\n",
       "Описание                               False\n",
       "Област                                 False\n",
       "Град                                   False\n",
       "Район/Квартал                          False\n",
       "Етаж                                    True\n",
       "Наем (в лв.)                            True\n",
       "Наем (в евро)                           True\n",
       "Площ                                   False\n",
       "Цена на кв.м. (в лв.)                  False\n",
       "Спални                                 False\n",
       "От агенция                             False\n",
       "Подател                                False\n",
       "Телефон                                False\n",
       "Идентифициран риск за фалшива обява    False\n",
       "dtype: bool"
      ]
     },
     "execution_count": 21,
     "metadata": {},
     "output_type": "execute_result"
    }
   ],
   "source": [
    "(rent_ads_data.isna()).any()"
   ]
  },
  {
   "cell_type": "code",
   "execution_count": 22,
   "id": "a06d83a9-f17f-4085-aac2-b33e0818a084",
   "metadata": {},
   "outputs": [
    {
     "data": {
      "text/plain": [
       "False"
      ]
     },
     "execution_count": 22,
     "metadata": {},
     "output_type": "execute_result"
    }
   ],
   "source": [
    "(rent_ads_data['Наем (в лв.)'].isna() & rent_ads_data['Наем (в евро)'].isna()).any()"
   ]
  },
  {
   "cell_type": "markdown",
   "id": "a7ef07ad-3bef-4127-998b-27f44711ddab",
   "metadata": {},
   "source": [
    "Липсващи данни има в колони `Етаж`, `Наем (в лв.)` и `Наем (в евро)`, като записите, при които липсва наем с лв., имат стойност за наем в евро и обратно. За запълване на липсващите данни в тези две колони ще бъде използвана сумата след конвертиране в съответната валута. Липсващите данни за етаж са запълнени използвайки медианата за колоната."
   ]
  },
  {
   "cell_type": "code",
   "execution_count": 23,
   "id": "a278c590-6ea8-45fd-a836-1c31de038e8e",
   "metadata": {},
   "outputs": [],
   "source": [
    "rent_ads_data['Наем (в лв.)'] = rent_ads_data['Наем (в лв.)'].fillna(rent_ads_data['Наем (в евро)'] * 1.96)"
   ]
  },
  {
   "cell_type": "code",
   "execution_count": 24,
   "id": "5ebe30db-7c69-4806-a735-84045a910263",
   "metadata": {},
   "outputs": [],
   "source": [
    "rent_ads_data['Наем (в евро)'] = rent_ads_data['Наем (в евро)'].fillna(rent_ads_data['Наем (в лв.)'] / 1.96)"
   ]
  },
  {
   "cell_type": "code",
   "execution_count": 25,
   "id": "f156af47-e935-423c-a9fe-e6412e20dbef",
   "metadata": {},
   "outputs": [],
   "source": [
    "rent_ads_data['Етаж'] = rent_ads_data['Етаж'].fillna(rent_ads_data['Етаж'].median())"
   ]
  },
  {
   "cell_type": "markdown",
   "id": "0309d6b6-79ba-4dcf-beee-711e7dca6b0d",
   "metadata": {
    "jp-MarkdownHeadingCollapsed": true,
    "tags": []
   },
   "source": [
    "## Exploratory data analysis"
   ]
  },
  {
   "cell_type": "markdown",
   "id": "fdffa2ea-504a-46d8-888f-50f223e81af9",
   "metadata": {},
   "source": [
    "#### Корелации между числови променливи"
   ]
  },
  {
   "cell_type": "code",
   "execution_count": 26,
   "id": "4923d648-bae4-4b44-9388-66f30e6a4436",
   "metadata": {},
   "outputs": [],
   "source": [
    "features_corr = rent_ads_data.corr()"
   ]
  },
  {
   "cell_type": "code",
   "execution_count": 27,
   "id": "75e9e2b0-c9a3-4919-8d44-c6b0a7e300ef",
   "metadata": {},
   "outputs": [
    {
     "data": {
      "text/html": [
       "<div>\n",
       "<style scoped>\n",
       "    .dataframe tbody tr th:only-of-type {\n",
       "        vertical-align: middle;\n",
       "    }\n",
       "\n",
       "    .dataframe tbody tr th {\n",
       "        vertical-align: top;\n",
       "    }\n",
       "\n",
       "    .dataframe thead th {\n",
       "        text-align: right;\n",
       "    }\n",
       "</style>\n",
       "<table border=\"1\" class=\"dataframe\">\n",
       "  <thead>\n",
       "    <tr style=\"text-align: right;\">\n",
       "      <th></th>\n",
       "      <th>Етаж</th>\n",
       "      <th>Наем (в лв.)</th>\n",
       "      <th>Наем (в евро)</th>\n",
       "      <th>Площ</th>\n",
       "      <th>Цена на кв.м. (в лв.)</th>\n",
       "      <th>Спални</th>\n",
       "    </tr>\n",
       "  </thead>\n",
       "  <tbody>\n",
       "    <tr>\n",
       "      <th>Етаж</th>\n",
       "      <td>1.000000</td>\n",
       "      <td>0.062645</td>\n",
       "      <td>0.062645</td>\n",
       "      <td>0.125290</td>\n",
       "      <td>-0.108079</td>\n",
       "      <td>0.076054</td>\n",
       "    </tr>\n",
       "    <tr>\n",
       "      <th>Наем (в лв.)</th>\n",
       "      <td>0.062645</td>\n",
       "      <td>1.000000</td>\n",
       "      <td>1.000000</td>\n",
       "      <td>0.552648</td>\n",
       "      <td>-0.102398</td>\n",
       "      <td>-0.075543</td>\n",
       "    </tr>\n",
       "    <tr>\n",
       "      <th>Наем (в евро)</th>\n",
       "      <td>0.062645</td>\n",
       "      <td>1.000000</td>\n",
       "      <td>1.000000</td>\n",
       "      <td>0.552648</td>\n",
       "      <td>-0.102398</td>\n",
       "      <td>-0.075543</td>\n",
       "    </tr>\n",
       "    <tr>\n",
       "      <th>Площ</th>\n",
       "      <td>0.125290</td>\n",
       "      <td>0.552648</td>\n",
       "      <td>0.552648</td>\n",
       "      <td>1.000000</td>\n",
       "      <td>-0.774767</td>\n",
       "      <td>-0.048273</td>\n",
       "    </tr>\n",
       "    <tr>\n",
       "      <th>Цена на кв.м. (в лв.)</th>\n",
       "      <td>-0.108079</td>\n",
       "      <td>-0.102398</td>\n",
       "      <td>-0.102398</td>\n",
       "      <td>-0.774767</td>\n",
       "      <td>1.000000</td>\n",
       "      <td>0.030201</td>\n",
       "    </tr>\n",
       "    <tr>\n",
       "      <th>Спални</th>\n",
       "      <td>0.076054</td>\n",
       "      <td>-0.075543</td>\n",
       "      <td>-0.075543</td>\n",
       "      <td>-0.048273</td>\n",
       "      <td>0.030201</td>\n",
       "      <td>1.000000</td>\n",
       "    </tr>\n",
       "  </tbody>\n",
       "</table>\n",
       "</div>"
      ],
      "text/plain": [
       "                           Етаж  Наем (в лв.)  Наем (в евро)      Площ  \\\n",
       "Етаж                   1.000000      0.062645       0.062645  0.125290   \n",
       "Наем (в лв.)           0.062645      1.000000       1.000000  0.552648   \n",
       "Наем (в евро)          0.062645      1.000000       1.000000  0.552648   \n",
       "Площ                   0.125290      0.552648       0.552648  1.000000   \n",
       "Цена на кв.м. (в лв.) -0.108079     -0.102398      -0.102398 -0.774767   \n",
       "Спални                 0.076054     -0.075543      -0.075543 -0.048273   \n",
       "\n",
       "                       Цена на кв.м. (в лв.)    Спални  \n",
       "Етаж                               -0.108079  0.076054  \n",
       "Наем (в лв.)                       -0.102398 -0.075543  \n",
       "Наем (в евро)                      -0.102398 -0.075543  \n",
       "Площ                               -0.774767 -0.048273  \n",
       "Цена на кв.м. (в лв.)               1.000000  0.030201  \n",
       "Спални                              0.030201  1.000000  "
      ]
     },
     "execution_count": 27,
     "metadata": {},
     "output_type": "execute_result"
    }
   ],
   "source": [
    "features_corr"
   ]
  },
  {
   "cell_type": "markdown",
   "id": "abbc4a68-5490-4609-9df2-a361284ce183",
   "metadata": {},
   "source": [
    "Между числовите променливи в данните няма много силни линейни корелации. Най-високи коефициенти на корелация между цената и площта."
   ]
  },
  {
   "cell_type": "code",
   "execution_count": null,
   "id": "090d6b68-2dfe-47a9-adac-f350a20493ad",
   "metadata": {},
   "outputs": [],
   "source": []
  },
  {
   "cell_type": "code",
   "execution_count": 28,
   "id": "3e4013a7-3bdd-4788-9e5a-f51c68fc4ad7",
   "metadata": {},
   "outputs": [
    {
     "data": {
      "image/png": "[encoded data removed]",
      "text/plain": [
       "<Figure size 432x288 with 1 Axes>"
      ]
     },
     "metadata": {
      "needs_background": "light"
     },
     "output_type": "display_data"
    }
   ],
   "source": [
    "plt.boxplot(rent_ads_data['Етаж'])\n",
    "plt.show()"
   ]
  },
  {
   "cell_type": "code",
   "execution_count": 29,
   "id": "d721daff-d2ed-4982-bbf9-f6602761ceed",
   "metadata": {},
   "outputs": [
    {
     "data": {
      "image/png": "[encoded data removed]",
      "text/plain": [
       "<Figure size 432x288 with 1 Axes>"
      ]
     },
     "metadata": {
      "needs_background": "light"
     },
     "output_type": "display_data"
    }
   ],
   "source": [
    "plt.boxplot(rent_ads_data['Площ'])\n",
    "plt.show()"
   ]
  },
  {
   "cell_type": "code",
   "execution_count": 30,
   "id": "2c1c575f-6c43-4e8e-9a9b-2cf436ef621d",
   "metadata": {},
   "outputs": [
    {
     "data": {
      "image/png": "[encoded data removed]",
      "text/plain": [
       "<Figure size 432x288 with 1 Axes>"
      ]
     },
     "metadata": {
      "needs_background": "light"
     },
     "output_type": "display_data"
    }
   ],
   "source": [
    "plt.boxplot(rent_ads_data['Цена на кв.м. (в лв.)'])\n",
    "plt.show()"
   ]
  },
  {
   "cell_type": "code",
   "execution_count": 31,
   "id": "4eeb3efc-c623-44ea-acda-6b928a8a3d45",
   "metadata": {},
   "outputs": [
    {
     "data": {
      "image/png": "[encoded data removed]",
      "text/plain": [
       "<Figure size 432x288 with 1 Axes>"
      ]
     },
     "metadata": {
      "needs_background": "light"
     },
     "output_type": "display_data"
    }
   ],
   "source": [
    "plt.boxplot(rent_ads_data['Наем (в лв.)'])\n",
    "plt.show()"
   ]
  },
  {
   "cell_type": "code",
   "execution_count": 32,
   "id": "25d09726-64df-4cf3-b2b9-824ee126e977",
   "metadata": {},
   "outputs": [
    {
     "data": {
      "image/png": "[encoded data removed]",
      "text/plain": [
       "<Figure size 432x288 with 1 Axes>"
      ]
     },
     "metadata": {
      "needs_background": "light"
     },
     "output_type": "display_data"
    }
   ],
   "source": [
    "plt.bar(rent_ads_data['Район/Квартал'].value_counts().index[:10], rent_ads_data['Район/Квартал'].value_counts().values[:10])\n",
    "plt.xticks(rotation = 90)\n",
    "plt.show()"
   ]
  },
  {
   "cell_type": "code",
   "execution_count": 33,
   "id": "9f0cd80b-6c8b-42c2-a5d4-02acad06d8e0",
   "metadata": {},
   "outputs": [
    {
     "data": {
      "image/png": "[encoded data removed]",
      "text/plain": [
       "<Figure size 432x288 with 1 Axes>"
      ]
     },
     "metadata": {
      "needs_background": "light"
     },
     "output_type": "display_data"
    }
   ],
   "source": [
    "# plt.figure(figsize=(10, 7))\n",
    "plt.bar(rent_ads_data['От агенция'].value_counts().index, rent_ads_data['От агенция'].value_counts().values)\n",
    "plt.xticks(rotation = 90)\n",
    "plt.show()"
   ]
  },
  {
   "cell_type": "markdown",
   "id": "45d56acf-a82d-4d39-bd11-8d75729a7857",
   "metadata": {
    "jp-MarkdownHeadingCollapsed": true,
    "tags": []
   },
   "source": [
    "### Target променлива"
   ]
  },
  {
   "cell_type": "code",
   "execution_count": 34,
   "id": "e71fc761-ac33-4438-818b-9f147e467635",
   "metadata": {},
   "outputs": [
    {
     "data": {
      "text/plain": [
       "Не    88\n",
       "Да    10\n",
       "Name: Идентифициран риск за фалшива обява, dtype: int64"
      ]
     },
     "execution_count": 34,
     "metadata": {},
     "output_type": "execute_result"
    }
   ],
   "source": [
    " rent_ads_data['Идентифициран риск за фалшива обява'].value_counts()"
   ]
  },
  {
   "cell_type": "markdown",
   "id": "1ecb506d-ec81-4522-bd42-753c85bc0a74",
   "metadata": {},
   "source": [
    "Данните имат общо 98 записа, като класовете са силно небалансирани, с една 10 записа за клас - 0/'Да'."
   ]
  },
  {
   "cell_type": "markdown",
   "id": "13d526cd-a196-4433-8cbf-22863524b955",
   "metadata": {
    "tags": []
   },
   "source": [
    "## Моделиране по features "
   ]
  },
  {
   "cell_type": "markdown",
   "id": "3e253362-9d7e-44b6-8671-d094c8588b9f",
   "metadata": {
    "jp-MarkdownHeadingCollapsed": true,
    "tags": []
   },
   "source": [
    "#### Премахване на колони"
   ]
  },
  {
   "cell_type": "markdown",
   "id": "4332b537-73e2-4faf-a8f6-181dfed7ba40",
   "metadata": {},
   "source": [
    "От данните се премахват колоните с дата на публикуване, телефон,  както и текста към обявата(`Заглавие` и `Описание`). Колоната 'Подател' също няма да се използва тъй като след превръщане на категориите в нея към индикаторни променливи, данните ще имат повече измерения, отколкото записи. Информация за подателя на обявата се получава от части от колоната с колона `От агенция`, която показва дали обявата е частна или от агенция за недвижими имоти. Колона `Идентифициран риск за фалшива обява` се изнася като отделна target промелнива."
   ]
  },
  {
   "cell_type": "code",
   "execution_count": 35,
   "id": "45776d9c-21f4-438b-ab4e-08c79c2e502c",
   "metadata": {},
   "outputs": [],
   "source": [
    "rent_ads_attributes = rent_ads_data.drop(['Дата на публикуване', 'Заглавие', 'Описание', 'Телефон', 'Подател', 'Идентифициран риск за фалшива обява'], axis=1)"
   ]
  },
  {
   "cell_type": "code",
   "execution_count": 36,
   "id": "9769e16c-daa6-4e73-a471-9466745738bb",
   "metadata": {},
   "outputs": [],
   "source": [
    "rent_ads_target = rent_ads_data['Идентифициран риск за фалшива обява']"
   ]
  },
  {
   "cell_type": "code",
   "execution_count": 37,
   "id": "0a6a4931-baa8-4885-bff6-655a14086e16",
   "metadata": {},
   "outputs": [
    {
     "data": {
      "text/plain": [
       "Не    88\n",
       "Да    10\n",
       "Name: Идентифициран риск за фалшива обява, dtype: int64"
      ]
     },
     "execution_count": 37,
     "metadata": {},
     "output_type": "execute_result"
    }
   ],
   "source": [
    "rent_ads_target.value_counts()"
   ]
  },
  {
   "cell_type": "markdown",
   "id": "b5831d13-869a-49d0-8485-e2839875174e",
   "metadata": {
    "jp-MarkdownHeadingCollapsed": true,
    "tags": []
   },
   "source": [
    "#### Превръщане на категориини променливи в индикаторни"
   ]
  },
  {
   "cell_type": "code",
   "execution_count": 38,
   "id": "568ff5af-b104-4eda-8d60-221a3c933462",
   "metadata": {},
   "outputs": [],
   "source": [
    "rent_ads_attributes = pd.get_dummies(rent_ads_attributes, drop_first=True)"
   ]
  },
  {
   "cell_type": "code",
   "execution_count": 39,
   "id": "239de1e3-4bf7-4162-9a8f-0865c9cf3702",
   "metadata": {},
   "outputs": [
    {
     "data": {
      "text/html": [
       "<div>\n",
       "<style scoped>\n",
       "    .dataframe tbody tr th:only-of-type {\n",
       "        vertical-align: middle;\n",
       "    }\n",
       "\n",
       "    .dataframe tbody tr th {\n",
       "        vertical-align: top;\n",
       "    }\n",
       "\n",
       "    .dataframe thead th {\n",
       "        text-align: right;\n",
       "    }\n",
       "</style>\n",
       "<table border=\"1\" class=\"dataframe\">\n",
       "  <thead>\n",
       "    <tr style=\"text-align: right;\">\n",
       "      <th></th>\n",
       "      <th>Етаж</th>\n",
       "      <th>Наем (в лв.)</th>\n",
       "      <th>Наем (в евро)</th>\n",
       "      <th>Площ</th>\n",
       "      <th>Цена на кв.м. (в лв.)</th>\n",
       "      <th>Спални</th>\n",
       "      <th>Град_Божурище</th>\n",
       "      <th>Град_Нови хан</th>\n",
       "      <th>Град_София</th>\n",
       "      <th>Град_к.к.Боровец</th>\n",
       "      <th>...</th>\n",
       "      <th>Район/Квартал_Редута</th>\n",
       "      <th>Район/Квартал_Света Троица</th>\n",
       "      <th>Район/Квартал_Свобода</th>\n",
       "      <th>Район/Квартал_Студентски град</th>\n",
       "      <th>Район/Квартал_Сухата река</th>\n",
       "      <th>Район/Квартал_Триъгълника</th>\n",
       "      <th>Район/Квартал_Хаджи Димитър</th>\n",
       "      <th>Район/Квартал_Център</th>\n",
       "      <th>Район/Квартал_Яворов</th>\n",
       "      <th>От агенция_Не</th>\n",
       "    </tr>\n",
       "    <tr>\n",
       "      <th>Обява №</th>\n",
       "      <th></th>\n",
       "      <th></th>\n",
       "      <th></th>\n",
       "      <th></th>\n",
       "      <th></th>\n",
       "      <th></th>\n",
       "      <th></th>\n",
       "      <th></th>\n",
       "      <th></th>\n",
       "      <th></th>\n",
       "      <th></th>\n",
       "      <th></th>\n",
       "      <th></th>\n",
       "      <th></th>\n",
       "      <th></th>\n",
       "      <th></th>\n",
       "      <th></th>\n",
       "      <th></th>\n",
       "      <th></th>\n",
       "      <th></th>\n",
       "      <th></th>\n",
       "    </tr>\n",
       "  </thead>\n",
       "  <tbody>\n",
       "    <tr>\n",
       "      <th>1276</th>\n",
       "      <td>8.0</td>\n",
       "      <td>539.0</td>\n",
       "      <td>275.0</td>\n",
       "      <td>49.0</td>\n",
       "      <td>10.976597</td>\n",
       "      <td>1.0</td>\n",
       "      <td>0</td>\n",
       "      <td>0</td>\n",
       "      <td>1</td>\n",
       "      <td>0</td>\n",
       "      <td>...</td>\n",
       "      <td>0</td>\n",
       "      <td>0</td>\n",
       "      <td>0</td>\n",
       "      <td>0</td>\n",
       "      <td>0</td>\n",
       "      <td>0</td>\n",
       "      <td>0</td>\n",
       "      <td>0</td>\n",
       "      <td>0</td>\n",
       "      <td>0</td>\n",
       "    </tr>\n",
       "  </tbody>\n",
       "</table>\n",
       "<p>1 rows × 58 columns</p>\n",
       "</div>"
      ],
      "text/plain": [
       "         Етаж  Наем (в лв.)  Наем (в евро)  Площ  Цена на кв.м. (в лв.)  \\\n",
       "Обява №                                                                   \n",
       "1276      8.0         539.0          275.0  49.0              10.976597   \n",
       "\n",
       "         Спални  Град_Божурище  Град_Нови хан  Град_София  Град_к.к.Боровец  \\\n",
       "Обява №                                                                       \n",
       "1276        1.0              0              0           1                 0   \n",
       "\n",
       "         ...  Район/Квартал_Редута  Район/Квартал_Света Троица  \\\n",
       "Обява №  ...                                                     \n",
       "1276     ...                     0                           0   \n",
       "\n",
       "         Район/Квартал_Свобода  Район/Квартал_Студентски град  \\\n",
       "Обява №                                                         \n",
       "1276                         0                              0   \n",
       "\n",
       "         Район/Квартал_Сухата река  Район/Квартал_Триъгълника  \\\n",
       "Обява №                                                         \n",
       "1276                             0                          0   \n",
       "\n",
       "         Район/Квартал_Хаджи Димитър  Район/Квартал_Център  \\\n",
       "Обява №                                                      \n",
       "1276                               0                     0   \n",
       "\n",
       "         Район/Квартал_Яворов  От агенция_Не  \n",
       "Обява №                                       \n",
       "1276                        0              0  \n",
       "\n",
       "[1 rows x 58 columns]"
      ]
     },
     "execution_count": 39,
     "metadata": {},
     "output_type": "execute_result"
    }
   ],
   "source": [
    "rent_ads_attributes.head(1)"
   ]
  },
  {
   "cell_type": "code",
   "execution_count": 40,
   "id": "1f4afa8b-edd5-4e49-a573-2bd2c42dd71b",
   "metadata": {},
   "outputs": [],
   "source": [
    "rent_ads_target = pd.get_dummies(rent_ads_target, drop_first=True)"
   ]
  },
  {
   "cell_type": "markdown",
   "id": "fbeafe19-baaf-464d-b5ab-d886673f47ca",
   "metadata": {
    "tags": []
   },
   "source": [
    "### с oversampling"
   ]
  },
  {
   "cell_type": "markdown",
   "id": "91ef55ea-296a-43d2-bcc4-9541cebbd0ee",
   "metadata": {
    "tags": []
   },
   "source": [
    "#### Балансиране на класовете чрез SMOTE"
   ]
  },
  {
   "cell_type": "code",
   "execution_count": 41,
   "id": "fb49f7ae-c2a8-4ede-8b91-aefe2effbe22",
   "metadata": {},
   "outputs": [],
   "source": [
    "rent_ads_attributes_balanced, rent_ads_target_balanced = SMOTE(random_state=13).fit_resample(rent_ads_attributes, rent_ads_target)"
   ]
  },
  {
   "cell_type": "markdown",
   "id": "34ed49f4-2902-4a43-8679-82ad0384d290",
   "metadata": {
    "jp-MarkdownHeadingCollapsed": true,
    "tags": []
   },
   "source": [
    "#### Скалиране"
   ]
  },
  {
   "cell_type": "markdown",
   "id": "6ab347d7-82fc-42c8-bc82-464cd0a62da6",
   "metadata": {},
   "source": [
    "Поради не малките разлики в стойностите на различните колони, данните ще бъдат скалирани, изполвайки MinMaxScaler. По този начин максималната стойност за съответната колона ще бъде равна на 1, а минималната на 0."
   ]
  },
  {
   "cell_type": "code",
   "execution_count": 43,
   "id": "062aa46a-0b97-4e58-ae55-7a6e7c106c13",
   "metadata": {},
   "outputs": [],
   "source": [
    "scaler = MinMaxScaler()"
   ]
  },
  {
   "cell_type": "code",
   "execution_count": 44,
   "id": "a739f66c-05e9-4533-9d17-53c7f20b3444",
   "metadata": {},
   "outputs": [
    {
     "data": {
      "text/plain": [
       "MinMaxScaler()"
      ]
     },
     "execution_count": 44,
     "metadata": {},
     "output_type": "execute_result"
    }
   ],
   "source": [
    "scaler.fit(rent_ads_attributes_balanced)"
   ]
  },
  {
   "cell_type": "code",
   "execution_count": 45,
   "id": "abf3b924-5263-46e7-af67-c9849b5d815a",
   "metadata": {},
   "outputs": [],
   "source": [
    "rent_ads_attributes_scaled = scaler.transform(rent_ads_attributes_balanced)"
   ]
  },
  {
   "cell_type": "markdown",
   "id": "82bf0133-3277-4dc9-9c85-ec982da31196",
   "metadata": {
    "jp-MarkdownHeadingCollapsed": true,
    "tags": []
   },
   "source": [
    "#### Разделяне на данните на трениращи и тестови"
   ]
  },
  {
   "cell_type": "markdown",
   "id": "2320dae1-d888-461e-80e5-617f20a4af38",
   "metadata": {},
   "source": [
    "Вече скалираните данни ще бъдат разделени на тестови - 30% и трениращи - 70%. Тъй като класовете вече са балансирани, всеки клас ще има приблизително еднакъв брой записи в съответния сет."
   ]
  },
  {
   "cell_type": "code",
   "execution_count": 46,
   "id": "229603d5-72d1-4732-9e4f-345433407680",
   "metadata": {},
   "outputs": [],
   "source": [
    "rent_ads_attributes_train, rent_ads_attributes_test, rent_ads_target_train, rent_ads_target_test = train_test_split(rent_ads_attributes_scaled,\n",
    "                                                                                                                    rent_ads_target_balanced,\n",
    "                                                                                                                    test_size=0.3,\n",
    "                                                                                                                    random_state=13)                                                                                                                  "
   ]
  },
  {
   "cell_type": "code",
   "execution_count": 47,
   "id": "1da6db36-b1db-4330-9da3-f9bc13fd8dfd",
   "metadata": {},
   "outputs": [
    {
     "data": {
      "text/plain": [
       "((123, 58), (53, 58), (123, 1), (53, 1))"
      ]
     },
     "execution_count": 47,
     "metadata": {},
     "output_type": "execute_result"
    }
   ],
   "source": [
    "rent_ads_attributes_train.shape, rent_ads_attributes_test.shape, rent_ads_target_train.shape,rent_ads_target_test.shape"
   ]
  },
  {
   "cell_type": "code",
   "execution_count": 48,
   "id": "5e2f0de6-c1cc-4192-a015-cf0f72aba398",
   "metadata": {},
   "outputs": [
    {
     "data": {
      "text/plain": [
       "Не\n",
       "1     27\n",
       "0     26\n",
       "dtype: int64"
      ]
     },
     "execution_count": 48,
     "metadata": {},
     "output_type": "execute_result"
    }
   ],
   "source": [
    "rent_ads_target_test.value_counts()"
   ]
  },
  {
   "cell_type": "code",
   "execution_count": 49,
   "id": "860d75cb-0095-4879-9edb-d51b2d806dfb",
   "metadata": {},
   "outputs": [
    {
     "data": {
      "text/plain": [
       "Не\n",
       "0     62\n",
       "1     61\n",
       "dtype: int64"
      ]
     },
     "execution_count": 49,
     "metadata": {},
     "output_type": "execute_result"
    }
   ],
   "source": [
    "rent_ads_target_train.value_counts()"
   ]
  },
  {
   "cell_type": "code",
   "execution_count": 50,
   "id": "1f3d126a-e7f7-4eb9-b2d3-583021d45dc9",
   "metadata": {},
   "outputs": [],
   "source": [
    "rent_ads_target_train = np.ravel(rent_ads_target_train)"
   ]
  },
  {
   "cell_type": "code",
   "execution_count": 51,
   "id": "6da56a0e-b826-46a7-9d94-b85571850a62",
   "metadata": {},
   "outputs": [],
   "source": [
    "rent_ads_target_test = np.ravel(rent_ads_target_test)"
   ]
  },
  {
   "cell_type": "markdown",
   "id": "0613997c-d1d7-4e01-9642-6414e0766b2a",
   "metadata": {
    "jp-MarkdownHeadingCollapsed": true,
    "tags": []
   },
   "source": [
    "#### Оптимизация на хиперпараметри и трениране на модел"
   ]
  },
  {
   "cell_type": "code",
   "execution_count": 52,
   "id": "d2416b5b-2cd5-4a46-b3c2-9ced8665e565",
   "metadata": {},
   "outputs": [],
   "source": [
    "#### Support vector classifier"
   ]
  },
  {
   "cell_type": "code",
   "execution_count": 53,
   "id": "cbf71559-15fa-4d49-9e76-f0d3229f2bf5",
   "metadata": {},
   "outputs": [],
   "source": [
    "grid_params = {'C': [0.1, 1, 10],\n",
    "               'kernel': ['linear', 'poly', 'rbf'],\n",
    "               'gamma': [0.1, 1, 10]\n",
    "}"
   ]
  },
  {
   "cell_type": "code",
   "execution_count": 54,
   "id": "5c086f14-2b63-4a8d-996e-0578a85f6515",
   "metadata": {},
   "outputs": [],
   "source": [
    "grid_search = GridSearchCV(SVC(random_state=13), grid_params, scoring=make_scorer(f1_score))"
   ]
  },
  {
   "cell_type": "code",
   "execution_count": 55,
   "id": "f1dbf526-fbf4-46de-8a7b-3081fc5117c3",
   "metadata": {},
   "outputs": [
    {
     "data": {
      "text/plain": [
       "GridSearchCV(estimator=SVC(random_state=13),\n",
       "             param_grid={'C': [0.1, 1, 10], 'gamma': [0.1, 1, 10],\n",
       "                         'kernel': ['linear', 'poly', 'rbf']},\n",
       "             scoring=make_scorer(f1_score))"
      ]
     },
     "execution_count": 55,
     "metadata": {},
     "output_type": "execute_result"
    }
   ],
   "source": [
    "grid_search.fit(rent_ads_attributes_train, rent_ads_target_train)"
   ]
  },
  {
   "cell_type": "code",
   "execution_count": 56,
   "id": "1fa912ca-2313-4472-bbed-f2571d402b71",
   "metadata": {},
   "outputs": [
    {
     "data": {
      "text/plain": [
       "{'C': 1, 'gamma': 1, 'kernel': 'rbf'}"
      ]
     },
     "execution_count": 56,
     "metadata": {},
     "output_type": "execute_result"
    }
   ],
   "source": [
    "grid_search.best_params_"
   ]
  },
  {
   "cell_type": "code",
   "execution_count": 57,
   "id": "4bac58cd-9ee7-4524-a560-a1058c678039",
   "metadata": {},
   "outputs": [
    {
     "data": {
      "text/plain": [
       "0.9244214559386974"
      ]
     },
     "execution_count": 57,
     "metadata": {},
     "output_type": "execute_result"
    }
   ],
   "source": [
    "grid_search.best_score_"
   ]
  },
  {
   "cell_type": "markdown",
   "id": "e743e72a-86d9-4c4a-af09-3533a36e27c1",
   "metadata": {
    "jp-MarkdownHeadingCollapsed": true,
    "tags": []
   },
   "source": [
    "#### Оценка на модела върху трениращите данни"
   ]
  },
  {
   "cell_type": "code",
   "execution_count": 58,
   "id": "2f7c1aa7-0b3f-47e6-8bb6-8a788e4b9967",
   "metadata": {},
   "outputs": [
    {
     "data": {
      "image/png": "[encoded data removed]",
      "text/plain": [
       "<Figure size 432x288 with 2 Axes>"
      ]
     },
     "metadata": {
      "needs_background": "light"
     },
     "output_type": "display_data"
    }
   ],
   "source": [
    "ConfusionMatrixDisplay(confusion_matrix(rent_ads_target_train, grid_search.best_estimator_.predict(rent_ads_attributes_train))).plot()\n",
    "plt.show()"
   ]
  },
  {
   "cell_type": "code",
   "execution_count": 59,
   "id": "684ec1b3-bd63-4eca-865f-bc091b5d1cc0",
   "metadata": {},
   "outputs": [
    {
     "data": {
      "text/plain": [
       "0.9836065573770492"
      ]
     },
     "execution_count": 59,
     "metadata": {},
     "output_type": "execute_result"
    }
   ],
   "source": [
    "f1_score(rent_ads_target_train, grid_search.best_estimator_.predict(rent_ads_attributes_train))"
   ]
  },
  {
   "cell_type": "code",
   "execution_count": 60,
   "id": "b6e96198-5719-4878-9589-40568305d3cc",
   "metadata": {},
   "outputs": [
    {
     "name": "stdout",
     "output_type": "stream",
     "text": [
      "              precision    recall  f1-score   support\n",
      "\n",
      "           0       0.98      0.98      0.98        62\n",
      "           1       0.98      0.98      0.98        61\n",
      "\n",
      "    accuracy                           0.98       123\n",
      "   macro avg       0.98      0.98      0.98       123\n",
      "weighted avg       0.98      0.98      0.98       123\n",
      "\n"
     ]
    }
   ],
   "source": [
    "print(classification_report(rent_ads_target_train, grid_search.best_estimator_.predict(rent_ads_attributes_train)))"
   ]
  },
  {
   "cell_type": "markdown",
   "id": "9d2bb2a3-c9f7-4c1c-9a1b-bf6edebbe1aa",
   "metadata": {
    "jp-MarkdownHeadingCollapsed": true,
    "tags": []
   },
   "source": [
    "#### Оценка на модела върху тестовите данни"
   ]
  },
  {
   "cell_type": "code",
   "execution_count": 61,
   "id": "6213b138-ad8d-4582-9fcb-380a91c3ba03",
   "metadata": {},
   "outputs": [
    {
     "data": {
      "image/png": "[encoded data removed]",
      "text/plain": [
       "<Figure size 432x288 with 2 Axes>"
      ]
     },
     "metadata": {
      "needs_background": "light"
     },
     "output_type": "display_data"
    }
   ],
   "source": [
    "ConfusionMatrixDisplay(confusion_matrix(rent_ads_target_test, grid_search.best_estimator_.predict(rent_ads_attributes_test))).plot()\n",
    "plt.show()"
   ]
  },
  {
   "cell_type": "code",
   "execution_count": 62,
   "id": "a42d4b1c-e441-467a-9b44-adc010e40e4a",
   "metadata": {},
   "outputs": [
    {
     "data": {
      "text/plain": [
       "0.9629629629629629"
      ]
     },
     "execution_count": 62,
     "metadata": {},
     "output_type": "execute_result"
    }
   ],
   "source": [
    "f1_score(rent_ads_target_test, grid_search.best_estimator_.predict(rent_ads_attributes_test))"
   ]
  },
  {
   "cell_type": "code",
   "execution_count": 63,
   "id": "f45ce097-84d0-42f2-a2e5-eef8edd52add",
   "metadata": {},
   "outputs": [
    {
     "name": "stdout",
     "output_type": "stream",
     "text": [
      "              precision    recall  f1-score   support\n",
      "\n",
      "           0       0.96      0.96      0.96        26\n",
      "           1       0.96      0.96      0.96        27\n",
      "\n",
      "    accuracy                           0.96        53\n",
      "   macro avg       0.96      0.96      0.96        53\n",
      "weighted avg       0.96      0.96      0.96        53\n",
      "\n"
     ]
    }
   ],
   "source": [
    "print(classification_report(rent_ads_target_test, grid_search.best_estimator_.predict(rent_ads_attributes_test)))"
   ]
  },
  {
   "cell_type": "markdown",
   "id": "ecad5ef2-7775-42dd-8aae-7c292b86eb0c",
   "metadata": {
    "tags": []
   },
   "source": [
    "### без oversampling"
   ]
  },
  {
   "cell_type": "markdown",
   "id": "06ffcf42-95ca-42ac-bcdf-c49f11f244ab",
   "metadata": {
    "jp-MarkdownHeadingCollapsed": true,
    "tags": []
   },
   "source": [
    "#### Скалиране"
   ]
  },
  {
   "cell_type": "code",
   "execution_count": 64,
   "id": "1e65c624-fdb2-4f57-8688-7bcf5b7fdf22",
   "metadata": {},
   "outputs": [],
   "source": [
    "scaler = MinMaxScaler()\n",
    "scaler.fit(rent_ads_attributes_balanced)\n",
    "rent_ads_attributes_scaled = scaler.transform(rent_ads_attributes)"
   ]
  },
  {
   "cell_type": "markdown",
   "id": "38a039e2-dd81-4524-8094-965c0f12d2fa",
   "metadata": {
    "jp-MarkdownHeadingCollapsed": true,
    "tags": []
   },
   "source": [
    "#### Разделяне на данните на трениращи и тестови"
   ]
  },
  {
   "cell_type": "code",
   "execution_count": 65,
   "id": "c860bd51-db06-48b7-9e98-40e6d0f83b5e",
   "metadata": {},
   "outputs": [],
   "source": [
    "rent_ads_attributes_train, rent_ads_attributes_test, rent_ads_target_train, rent_ads_target_test = train_test_split(rent_ads_attributes_scaled,\n",
    "                                                                                                                    rent_ads_target,\n",
    "                                                                                                                    test_size=0.3,\n",
    "                                                                                                                    random_state=13, \n",
    "                                                                                                                    stratify=rent_ads_target)                                                                                                                  "
   ]
  },
  {
   "cell_type": "code",
   "execution_count": 66,
   "id": "e387452d-ae42-47bd-9fd5-a7c804673f16",
   "metadata": {},
   "outputs": [
    {
     "data": {
      "text/plain": [
       "Не\n",
       "1     27\n",
       "0      3\n",
       "dtype: int64"
      ]
     },
     "execution_count": 66,
     "metadata": {},
     "output_type": "execute_result"
    }
   ],
   "source": [
    "rent_ads_target_test.value_counts()"
   ]
  },
  {
   "cell_type": "code",
   "execution_count": 67,
   "id": "8d4db628-45b0-40ba-9c7d-f1b5ca0e0211",
   "metadata": {},
   "outputs": [
    {
     "data": {
      "text/plain": [
       "Не\n",
       "1     61\n",
       "0      7\n",
       "dtype: int64"
      ]
     },
     "execution_count": 67,
     "metadata": {},
     "output_type": "execute_result"
    }
   ],
   "source": [
    "rent_ads_target_train.value_counts()"
   ]
  },
  {
   "cell_type": "code",
   "execution_count": 68,
   "id": "1cdc85f4-7b27-439f-b23c-d682537b616c",
   "metadata": {},
   "outputs": [],
   "source": [
    "rent_ads_target_train = np.ravel(rent_ads_target_train)\n",
    "rent_ads_target_test = np.ravel(rent_ads_target_test)"
   ]
  },
  {
   "cell_type": "markdown",
   "id": "319b2f6e-d8c9-40ba-be83-5dede15be4e3",
   "metadata": {
    "jp-MarkdownHeadingCollapsed": true,
    "tags": []
   },
   "source": [
    "#### Оптимизация на хиперпараметри и трениране на модел"
   ]
  },
  {
   "cell_type": "code",
   "execution_count": 69,
   "id": "bb69fa2b-b76c-4274-a8fe-d4f35c67954a",
   "metadata": {},
   "outputs": [
    {
     "data": {
      "text/plain": [
       "sklearn.svm._classes.LinearSVC"
      ]
     },
     "execution_count": 69,
     "metadata": {},
     "output_type": "execute_result"
    }
   ],
   "source": [
    "LinearSVC"
   ]
  },
  {
   "cell_type": "code",
   "execution_count": 70,
   "id": "bece6323-f1ff-421a-afa0-f8964598c3cb",
   "metadata": {},
   "outputs": [],
   "source": [
    "grid_params = {'C': [0.001, 0.01, 0.1, 1, 10],\n",
    "               'fit_intercept': [True, False]\n",
    "}"
   ]
  },
  {
   "cell_type": "code",
   "execution_count": 71,
   "id": "b4384f5c-4aad-4573-b3ee-6158bff7636e",
   "metadata": {},
   "outputs": [],
   "source": [
    "grid_search = GridSearchCV(LinearSVC(random_state=13, class_weight='balanced'), grid_params, scoring=make_scorer(f1_score))"
   ]
  },
  {
   "cell_type": "code",
   "execution_count": 72,
   "id": "f51ef01a-df14-445c-b486-8d8b4c40c67a",
   "metadata": {},
   "outputs": [
    {
     "name": "stderr",
     "output_type": "stream",
     "text": [
      "/home/ivelina/anaconda3/envs/ML/lib/python3.8/site-packages/sklearn/svm/_base.py:1206: ConvergenceWarning: Liblinear failed to converge, increase the number of iterations.\n",
      "  warnings.warn(\n",
      "/home/ivelina/anaconda3/envs/ML/lib/python3.8/site-packages/sklearn/svm/_base.py:1206: ConvergenceWarning: Liblinear failed to converge, increase the number of iterations.\n",
      "  warnings.warn(\n",
      "/home/ivelina/anaconda3/envs/ML/lib/python3.8/site-packages/sklearn/svm/_base.py:1206: ConvergenceWarning: Liblinear failed to converge, increase the number of iterations.\n",
      "  warnings.warn(\n",
      "/home/ivelina/anaconda3/envs/ML/lib/python3.8/site-packages/sklearn/svm/_base.py:1206: ConvergenceWarning: Liblinear failed to converge, increase the number of iterations.\n",
      "  warnings.warn(\n",
      "/home/ivelina/anaconda3/envs/ML/lib/python3.8/site-packages/sklearn/svm/_base.py:1206: ConvergenceWarning: Liblinear failed to converge, increase the number of iterations.\n",
      "  warnings.warn(\n",
      "/home/ivelina/anaconda3/envs/ML/lib/python3.8/site-packages/sklearn/svm/_base.py:1206: ConvergenceWarning: Liblinear failed to converge, increase the number of iterations.\n",
      "  warnings.warn(\n",
      "/home/ivelina/anaconda3/envs/ML/lib/python3.8/site-packages/sklearn/svm/_base.py:1206: ConvergenceWarning: Liblinear failed to converge, increase the number of iterations.\n",
      "  warnings.warn(\n",
      "/home/ivelina/anaconda3/envs/ML/lib/python3.8/site-packages/sklearn/svm/_base.py:1206: ConvergenceWarning: Liblinear failed to converge, increase the number of iterations.\n",
      "  warnings.warn(\n"
     ]
    },
    {
     "data": {
      "text/plain": [
       "GridSearchCV(estimator=LinearSVC(class_weight='balanced', random_state=13),\n",
       "             param_grid={'C': [0.001, 0.01, 0.1, 1, 10],\n",
       "                         'fit_intercept': [True, False]},\n",
       "             scoring=make_scorer(f1_score))"
      ]
     },
     "execution_count": 72,
     "metadata": {},
     "output_type": "execute_result"
    }
   ],
   "source": [
    "grid_search.fit(rent_ads_attributes_train, rent_ads_target_train)"
   ]
  },
  {
   "cell_type": "code",
   "execution_count": 73,
   "id": "aef8e344-2548-4faf-8a98-7ed87b0cc840",
   "metadata": {},
   "outputs": [
    {
     "data": {
      "text/plain": [
       "{'C': 0.01, 'fit_intercept': True}"
      ]
     },
     "execution_count": 73,
     "metadata": {},
     "output_type": "execute_result"
    }
   ],
   "source": [
    "grid_search.best_params_"
   ]
  },
  {
   "cell_type": "code",
   "execution_count": 74,
   "id": "293a260d-d351-4ed3-96b3-4a9be01bebba",
   "metadata": {},
   "outputs": [
    {
     "data": {
      "text/plain": [
       "0.893304347826087"
      ]
     },
     "execution_count": 74,
     "metadata": {},
     "output_type": "execute_result"
    }
   ],
   "source": [
    "grid_search.best_score_"
   ]
  },
  {
   "cell_type": "markdown",
   "id": "7304a839-40d3-4fdb-8c51-46f7635a65aa",
   "metadata": {
    "jp-MarkdownHeadingCollapsed": true,
    "tags": []
   },
   "source": [
    "#### Оценка на модела върху трениращите данни"
   ]
  },
  {
   "cell_type": "code",
   "execution_count": 75,
   "id": "1f67eb34-4d4d-4804-9cd2-89a37b9a4ee6",
   "metadata": {},
   "outputs": [
    {
     "data": {
      "image/png": "[encoded data removed]",
      "text/plain": [
       "<Figure size 432x288 with 2 Axes>"
      ]
     },
     "metadata": {
      "needs_background": "light"
     },
     "output_type": "display_data"
    }
   ],
   "source": [
    "ConfusionMatrixDisplay(confusion_matrix(rent_ads_target_train, grid_search.best_estimator_.predict(rent_ads_attributes_train))).plot()\n",
    "plt.show()"
   ]
  },
  {
   "cell_type": "markdown",
   "id": "beee1a79-ec90-440c-80ea-743b6632eb9b",
   "metadata": {
    "jp-MarkdownHeadingCollapsed": true,
    "tags": []
   },
   "source": [
    "#### Оценка на модела върху тестовите данни"
   ]
  },
  {
   "cell_type": "code",
   "execution_count": 76,
   "id": "39a5c14c-f837-4041-8502-7d71c7976419",
   "metadata": {},
   "outputs": [
    {
     "data": {
      "image/png": "[encoded data removed]",
      "text/plain": [
       "<Figure size 432x288 with 2 Axes>"
      ]
     },
     "metadata": {
      "needs_background": "light"
     },
     "output_type": "display_data"
    }
   ],
   "source": [
    "ConfusionMatrixDisplay(confusion_matrix(rent_ads_target_test, grid_search.best_estimator_.predict(rent_ads_attributes_test))).plot()\n",
    "plt.show()"
   ]
  },
  {
   "cell_type": "code",
   "execution_count": null,
   "id": "3b00cfc3-435f-4a0c-a221-9e3b2aa3e84a",
   "metadata": {},
   "outputs": [],
   "source": []
  }
 ],
 "metadata": {
  "kernelspec": {
   "display_name": "Python 3 (ipykernel)",
   "language": "python",
   "name": "python3"
  },
  "language_info": {
   "codemirror_mode": {
    "name": "ipython",
    "version": 3
   },
   "file_extension": ".py",
   "mimetype": "text/x-python",
   "name": "python",
   "nbconvert_exporter": "python",
   "pygments_lexer": "ipython3",
   "version": "3.8.13"
  }
 },
 "nbformat": 4,
 "nbformat_minor": 5
}
